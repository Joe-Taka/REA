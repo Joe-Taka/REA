{
 "cells": [
  {
   "cell_type": "markdown",
   "metadata": {},
   "source": [
    "https://hackernoon.com/how-to-do-calculus-with-python-derivatives-cheat-sheet-part-1-zfv3uno <br>\n",
    "https://mathworld.wolfram.com/Integral.html#:~:text=In%20calculus%2C%20an%20integral%20is,integral%20include%20antiderivative%20and%20primitive <br>\n",
    "http://ecalculo.if.usp.br/integrais/soma_riemann/soma_riemann.htm <br>\n",
    "https://pt.wikipedia.org/wiki/Integral_de_Riemann <br>"
   ]
  },
  {
   "cell_type": "markdown",
   "metadata": {},
   "source": [
    "## Conceito de Integral"
   ]
  },
  {
   "attachments": {
    "f0647715-497e-44e0-b022-296c5a7dca58.png": {
     "image/png": "[encoded data removed]"
    }
   },
   "cell_type": "markdown",
   "metadata": {},
   "source": [
    "- Em cálculo, o conceito de integral se refere à soma infinitesimal de regiões para se obter o valor total de uma região contínua. Ela pode ser considerada uma área ou a generalização de uma área e, juntamente com a derivada, constitui os objetos fundamentais do Cálculo.\n",
    "- O exemplo mais simples de integral é a **Integral de Riemann**. Considerando uma função contínua $f(x)$ num intervalo $[a,b]$ tal que $f(x) \\geq 0$  para todo $x \\; \\epsilon \\; [a,b]$. <br>\n",
    "\n",
    "![image.png](attachment:f0647715-497e-44e0-b022-296c5a7dca58.png)\n",
    "\n",
    "A Integral de Riemann da função $f(x)$ em relação a x de a para b é: <br>\n",
    "\n",
    "$$\\large \\int_{b}^{a}f(x)dx$$\n",
    "\n",
    "Ela basicamente diz que a área da região compreendida entre o eixo horizontal e o gráfico da função $f(x)$, para x percorrendo o intervalo $[a,b]$\n",
    "\n",
    "como a soma a integral definida da função f, sendo  no intervalo , é igual ao limite da soma das áreas dos n retângulos, quando o número desses retângulos tende a infinito. Nesse caso a integral fornece .\n"
   ]
  },
  {
   "cell_type": "code",
   "execution_count": null,
   "metadata": {},
   "outputs": [],
   "source": []
  }
 ],
 "metadata": {
  "kernelspec": {
   "display_name": "Python 3",
   "language": "python",
   "name": "python3"
  },
  "language_info": {
   "codemirror_mode": {
    "name": "ipython",
    "version": 3
   },
   "file_extension": ".py",
   "mimetype": "text/x-python",
   "name": "python",
   "nbconvert_exporter": "python",
   "pygments_lexer": "ipython3",
   "version": "3.8.6"
  }
 },
 "nbformat": 4,
 "nbformat_minor": 4
}
