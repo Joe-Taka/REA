{
 "cells": [
  {
   "cell_type": "markdown",
   "metadata": {},
   "source": [
    "### Referências\n",
    "https://www.mathsisfun.com/data/bayes-theorem.htmlhttps://www.mathsisfun.com/data/bayes-theorem.html\n",
    "https://machinelearningmastery.com/naive-bayes-classifier-scratch-python/ <br>\n",
    "https://machinelearningmastery.com/bayes-theorem-for-machine-learning/ <br>\n",
    "https://programmerbackpack.com/naive-bayes-classifier-explained/ <br>\n",
    "https://programmerbackpack.com/naive-bayes-classifier-tutorial-in-python-and-scikit-learn/ <br>\n",
    "https://www.datacamp.com/community/tutorials/naive-bayes-scikit-learn"
   ]
  },
  {
   "cell_type": "markdown",
   "metadata": {},
   "source": [
    "## Teorema de Bayes\n",
    "### O que é o Teorema de Bayes?\n",
    "O teorema de Bayes fornece um modo de calcular a probabilidade de uma hipótese baseado na probabilidade de outras hipóteses *a priori*. "
   ]
  },
  {
   "cell_type": "markdown",
   "metadata": {},
   "source": [
    "### Equação\n",
    "$$P(A|B) = \\frac{P(A) \\cdot P(B|A)}{P(B)}$$\n",
    "- $P(A|B)$: probabilidade do evento 'A' ocorrer dado que 'B' ocorreu\n",
    "- $P(A)$: probabilidade de 'A' ocorrer\n",
    "- $P(B|A)$: probabilidade do evento 'B' ocorrer dado que 'A' ocorreu\n",
    "- $P(B)$: probabilidade de 'B' ocorrer"
   ]
  },
  {
   "cell_type": "code",
   "execution_count": 1,
   "metadata": {},
   "outputs": [
    {
     "name": "stdout",
     "output_type": "stream",
     "text": [
      "P(A|B) = 0.339%\n"
     ]
    }
   ],
   "source": [
    "# calculate P(A|B) given P(A), P(B|A), P(B|not A)\n",
    "def bayes_theorem(p_a, p_b_given_a, p_b_given_not_a):\n",
    "\t# calculate P(not A)\n",
    "\tnot_a = 1 - p_a\n",
    "\t# calculate P(B)\n",
    "\tp_b = p_b_given_a * p_a + p_b_given_not_a * not_a\n",
    "\t# calculate P(A|B)\n",
    "\tp_a_given_b = (p_b_given_a * p_a) / p_b\n",
    "\treturn p_a_given_b\n",
    " \n",
    "# P(A)\n",
    "p_a = 0.0002\n",
    "# P(B|A)\n",
    "p_b_given_a = 0.85\n",
    "# P(B|not A)\n",
    "p_b_given_not_a = 0.05\n",
    "# calculate P(A|B)\n",
    "result = bayes_theorem(p_a, p_b_given_a, p_b_given_not_a)\n",
    "# summarize\n",
    "print('P(A|B) = %.3f%%' % (result * 100))"
   ]
  },
  {
   "cell_type": "markdown",
   "metadata": {},
   "source": [
    "### Exemplo de aplicação do Teorema de Bayes utilizando Scikit-Learn no Python\n",
    "Vamos utilizar um conjunto de dados que incluem 3 observações sobre um determinado momento do dia (clima; feriado ou dia útil; período - manhã, horário de almoço ou noite), e a partir deles, tentaremos prever a probabilidade de acontecer um congestionamento na cidade. <br>\n",
    "- Para isso, usaremos a biblioteca 'Scikit-Learn' do Python"
   ]
  },
  {
   "cell_type": "code",
   "execution_count": 67,
   "metadata": {},
   "outputs": [],
   "source": [
    "from sklearn import preprocessing\n",
    "from sklearn.naive_bayes import GaussianNB\n",
    "import pandas as pd"
   ]
  },
  {
   "cell_type": "markdown",
   "metadata": {},
   "source": [
    "- Os dados que dispomos são apresentados a seguir:"
   ]
  },
  {
   "cell_type": "code",
   "execution_count": 62,
   "metadata": {},
   "outputs": [
    {
     "data": {
      "text/html": [
       "<div>\n",
       "<style scoped>\n",
       "    .dataframe tbody tr th:only-of-type {\n",
       "        vertical-align: middle;\n",
       "    }\n",
       "\n",
       "    .dataframe tbody tr th {\n",
       "        vertical-align: top;\n",
       "    }\n",
       "\n",
       "    .dataframe thead th {\n",
       "        text-align: right;\n",
       "    }\n",
       "</style>\n",
       "<table border=\"1\" class=\"dataframe\">\n",
       "  <thead>\n",
       "    <tr style=\"text-align: center;\">\n",
       "      <th></th>\n",
       "      <th>Tempo</th>\n",
       "      <th>Dia da semana</th>\n",
       "      <th>Horário</th>\n",
       "      <th>Congestionamento</th>\n",
       "    </tr>\n",
       "  </thead>\n",
       "  <tbody>\n",
       "    <tr>\n",
       "      <th>0</th>\n",
       "      <td>Claro</td>\n",
       "      <td>Útil</td>\n",
       "      <td>Manhã</td>\n",
       "      <td>Sim</td>\n",
       "    </tr>\n",
       "    <tr>\n",
       "      <th>1</th>\n",
       "      <td>Claro</td>\n",
       "      <td>Útil</td>\n",
       "      <td>Almoço</td>\n",
       "      <td>Não</td>\n",
       "    </tr>\n",
       "    <tr>\n",
       "      <th>2</th>\n",
       "      <td>Claro</td>\n",
       "      <td>Útil</td>\n",
       "      <td>Noite</td>\n",
       "      <td>Sim</td>\n",
       "    </tr>\n",
       "    <tr>\n",
       "      <th>3</th>\n",
       "      <td>Claro</td>\n",
       "      <td>Feriado</td>\n",
       "      <td>Manhã</td>\n",
       "      <td>Não</td>\n",
       "    </tr>\n",
       "    <tr>\n",
       "      <th>4</th>\n",
       "      <td>Claro</td>\n",
       "      <td>Feriado</td>\n",
       "      <td>Almoço</td>\n",
       "      <td>Não</td>\n",
       "    </tr>\n",
       "    <tr>\n",
       "      <th>5</th>\n",
       "      <td>Claro</td>\n",
       "      <td>Feriado</td>\n",
       "      <td>Noite</td>\n",
       "      <td>Não</td>\n",
       "    </tr>\n",
       "    <tr>\n",
       "      <th>6</th>\n",
       "      <td>Chuvoso</td>\n",
       "      <td>Útil</td>\n",
       "      <td>Manhã</td>\n",
       "      <td>Sim</td>\n",
       "    </tr>\n",
       "    <tr>\n",
       "      <th>7</th>\n",
       "      <td>Chuvoso</td>\n",
       "      <td>Útil</td>\n",
       "      <td>Almoço</td>\n",
       "      <td>Sim</td>\n",
       "    </tr>\n",
       "    <tr>\n",
       "      <th>8</th>\n",
       "      <td>Chuvoso</td>\n",
       "      <td>Útil</td>\n",
       "      <td>Noite</td>\n",
       "      <td>Sim</td>\n",
       "    </tr>\n",
       "    <tr>\n",
       "      <th>9</th>\n",
       "      <td>Chuvoso</td>\n",
       "      <td>Feriado</td>\n",
       "      <td>Manhã</td>\n",
       "      <td>Não</td>\n",
       "    </tr>\n",
       "    <tr>\n",
       "      <th>10</th>\n",
       "      <td>Chuvoso</td>\n",
       "      <td>Feriado</td>\n",
       "      <td>Almoço</td>\n",
       "      <td>Não</td>\n",
       "    </tr>\n",
       "    <tr>\n",
       "      <th>11</th>\n",
       "      <td>Chuvoso</td>\n",
       "      <td>Feriado</td>\n",
       "      <td>Noite</td>\n",
       "      <td>Não</td>\n",
       "    </tr>\n",
       "    <tr>\n",
       "      <th>12</th>\n",
       "      <td>Geada</td>\n",
       "      <td>Útil</td>\n",
       "      <td>Manhã</td>\n",
       "      <td>Sim</td>\n",
       "    </tr>\n",
       "    <tr>\n",
       "      <th>13</th>\n",
       "      <td>Geada</td>\n",
       "      <td>Útil</td>\n",
       "      <td>Almoço</td>\n",
       "      <td>Sim</td>\n",
       "    </tr>\n",
       "    <tr>\n",
       "      <th>14</th>\n",
       "      <td>Geada</td>\n",
       "      <td>Útil</td>\n",
       "      <td>Noite</td>\n",
       "      <td>Sim</td>\n",
       "    </tr>\n",
       "    <tr>\n",
       "      <th>15</th>\n",
       "      <td>Geada</td>\n",
       "      <td>Feriado</td>\n",
       "      <td>Manhã</td>\n",
       "      <td>Sim</td>\n",
       "    </tr>\n",
       "    <tr>\n",
       "      <th>16</th>\n",
       "      <td>Geada</td>\n",
       "      <td>Feriado</td>\n",
       "      <td>Almoço</td>\n",
       "      <td>Não</td>\n",
       "    </tr>\n",
       "    <tr>\n",
       "      <th>17</th>\n",
       "      <td>Geada</td>\n",
       "      <td>Feriado</td>\n",
       "      <td>Noite</td>\n",
       "      <td>Sim</td>\n",
       "    </tr>\n",
       "  </tbody>\n",
       "</table>\n",
       "</div>"
      ],
      "text/plain": [
       "    Tempo   Dia da semana Horário Congestionamento\n",
       "0     Claro        Útil     Manhã        Sim      \n",
       "1     Claro        Útil    Almoço        Não      \n",
       "2     Claro        Útil     Noite        Sim      \n",
       "3     Claro     Feriado     Manhã        Não      \n",
       "4     Claro     Feriado    Almoço        Não      \n",
       "5     Claro     Feriado     Noite        Não      \n",
       "6   Chuvoso        Útil     Manhã        Sim      \n",
       "7   Chuvoso        Útil    Almoço        Sim      \n",
       "8   Chuvoso        Útil     Noite        Sim      \n",
       "9   Chuvoso     Feriado     Manhã        Não      \n",
       "10  Chuvoso     Feriado    Almoço        Não      \n",
       "11  Chuvoso     Feriado     Noite        Não      \n",
       "12    Geada        Útil     Manhã        Sim      \n",
       "13    Geada        Útil    Almoço        Sim      \n",
       "14    Geada        Útil     Noite        Sim      \n",
       "15    Geada     Feriado     Manhã        Sim      \n",
       "16    Geada     Feriado    Almoço        Não      \n",
       "17    Geada     Feriado     Noite        Sim      "
      ]
     },
     "execution_count": 62,
     "metadata": {},
     "output_type": "execute_result"
    }
   ],
   "source": [
    "tempo = ['Claro', 'Claro', 'Claro', 'Claro', 'Claro', 'Claro',\n",
    "        'Chuvoso', 'Chuvoso', 'Chuvoso', 'Chuvoso', 'Chuvoso', 'Chuvoso',\n",
    "        'Geada', 'Geada', 'Geada', 'Geada', 'Geada', 'Geada']\n",
    "\n",
    "\n",
    "diaDaSem = ['Útil', 'Útil', 'Útil',\n",
    "            'Feriado', 'Feriado', 'Feriado',\n",
    "            'Útil', 'Útil', 'Útil',\n",
    "            'Feriado', 'Feriado', 'Feriado',\n",
    "            'Útil', 'Útil', 'Útil',\n",
    "            'Feriado', 'Feriado', 'Feriado']\n",
    "\n",
    "horario = ['Manhã', 'Almoço', 'Noite',\n",
    "            'Manhã', 'Almoço', 'Noite',\n",
    "            'Manhã', 'Almoço', 'Noite',\n",
    "            'Manhã', 'Almoço', 'Noite',\n",
    "            'Manhã', 'Almoço', 'Noite',\n",
    "            'Manhã', 'Almoço', 'Noite']\n",
    "\n",
    "congest = ['Sim', 'Não', 'Sim',\n",
    "            'Não', 'Não', 'Não',\n",
    "            'Sim', 'Sim', 'Sim',\n",
    "            'Não', 'Não', 'Não',\n",
    "            'Sim', 'Sim', 'Sim',\n",
    "            'Sim', 'Não', 'Sim']\n",
    "\n",
    "pd.DataFrame(zip(tempo,diaDaSem,horario,congest), columns=['Tempo','Dia da semana','Horário','Congestionamento'])"
   ]
  },
  {
   "cell_type": "markdown",
   "metadata": {},
   "source": [
    "#### Normalizando os dados\n",
    "Vamos utilizar o comando 'sklearn.preprocessing.LabelEncoder' para **normalizar** os dados, ou seja, alter os valores das colunas numéricas no conjunto de dados para uma escala comum, sem distorcer os intervalos de valores ou perda de informações."
   ]
  },
  {
   "cell_type": "code",
   "execution_count": 66,
   "metadata": {},
   "outputs": [
    {
     "name": "stdout",
     "output_type": "stream",
     "text": [
      "[1 1 1 1 1 1 0 0 0 0 0 0 2 2 2 2 2 2]\n",
      "[1 0 1 0 0 0 1 1 1 0 0 0 1 1 1 1 0 1]\n"
     ]
    }
   ],
   "source": [
    "labelEncoder = preprocessing.LabelEncoder();\n",
    "print (labelEncoder.fit_transform(tempo))\n",
    "print(labelEncoder.fit_transform(congest))"
   ]
  },
  {
   "cell_type": "code",
   "execution_count": 10,
   "metadata": {},
   "outputs": [
    {
     "name": "stdout",
     "output_type": "stream",
     "text": [
      "[0 0 0 0 0 0 1 1 1 1 1 1 2 2 2 2 2 2]\n",
      "[1 0 1 0 0 0 1 1 1 0 0 0 1 1 1 1 0 1]\n"
     ]
    }
   ],
   "source": [
    "def getWeather():\n",
    "    return ['Clear', 'Clear', 'Clear', 'Clear', 'Clear', 'Clear',\n",
    "            'Rainy', 'Rainy', 'Rainy', 'Rainy', 'Rainy', 'Rainy',\n",
    "            'Snowy', 'Snowy', 'Snowy', 'Snowy', 'Snowy', 'Snowy']\n",
    "\n",
    "def getTimeOfWeek():\n",
    "    return ['Workday', 'Workday', 'Workday',\n",
    "            'Weekend', 'Weekend', 'Weekend',\n",
    "            'Workday', 'Workday', 'Workday',\n",
    "            'Weekend', 'Weekend', 'Weekend',\n",
    "            'Workday', 'Workday', 'Workday',\n",
    "            'Weekend', 'Weekend', 'Weekend']\n",
    "\n",
    "def getTimeOfDay():\n",
    "    return ['Morning', 'Lunch', 'Evening',\n",
    "            'Morning', 'Lunch', 'Evening',\n",
    "            'Morning', 'Lunch', 'Evening',\n",
    "            'Morning', 'Lunch', 'Evening',\n",
    "            'Morning', 'Lunch', 'Evening',\n",
    "            'Morning', 'Lunch', 'Evening',\n",
    "            ]\n",
    "\n",
    "def getTrafficJam():\n",
    "    return ['Yes', 'No', 'Yes',\n",
    "            'No', 'No', 'No',\n",
    "            'Yes', 'Yes', 'Yes',\n",
    "            'No', 'No', 'No',\n",
    "            'Yes', 'Yes', 'Yes',\n",
    "            'Yes', 'No', 'Yes'\n",
    "            ]\n",
    "\n",
    "weather = ['Clear', 'Clear', 'Clear', 'Clear', 'Clear', 'Clear',\n",
    "            'Rainy', 'Rainy', 'Rainy', 'Rainy', 'Rainy', 'Rainy',\n",
    "            'Snowy', 'Snowy', 'Snowy', 'Snowy', 'Snowy', 'Snowy']\n",
    "\n",
    "labelEncoder = preprocessing.LabelEncoder();\n",
    "print (labelEncoder.fit_transform(weather))\n",
    "    \n",
    "trafficJam = ['Yes', 'No', 'Yes',\n",
    "            'No', 'No', 'No',\n",
    "            'Yes', 'Yes', 'Yes',\n",
    "            'No', 'No', 'No',\n",
    "            'Yes', 'Yes', 'Yes',\n",
    "            'Yes', 'No', 'Yes'\n",
    "            ]\n",
    "print(labelEncoder.fit_transform(trafficJam))"
   ]
  },
  {
   "cell_type": "code",
   "execution_count": 3,
   "metadata": {},
   "outputs": [
    {
     "data": {
      "text/plain": [
       "GaussianNB()"
      ]
     },
     "execution_count": 3,
     "metadata": {},
     "output_type": "execute_result"
    }
   ],
   "source": [
    "# Get the data\n",
    "weather = getWeather()\n",
    "timeOfWeek = getTimeOfWeek()\n",
    "timeOfDay = getTimeOfDay()\n",
    "trafficJam = getTrafficJam()\n",
    "\n",
    "labelEncoder = preprocessing.LabelEncoder()\n",
    "\n",
    "# Encode the features and the labels\n",
    "encodedWeather = labelEncoder.fit_transform(weather)\n",
    "encodedTimeOfWeek = labelEncoder.fit_transform(timeOfWeek)\n",
    "encodedTimeOfDay = labelEncoder.fit_transform(timeOfDay)\n",
    "encodedTrafficJam = labelEncoder.fit_transform(trafficJam)\n",
    "\n",
    "# Build the features\n",
    "features = []\n",
    "for i in range(len(encodedWeather)):\n",
    "    features.append([encodedWeather[i], encodedTimeOfWeek[i], encodedTimeOfDay[i]])\n",
    "\n",
    "model = GaussianNB()\n",
    "\n",
    "# Train the model\n",
    "model.fit(features, encodedTrafficJam)"
   ]
  },
  {
   "cell_type": "code",
   "execution_count": 5,
   "metadata": {},
   "outputs": [
    {
     "name": "stdout",
     "output_type": "stream",
     "text": [
      "[1]\n",
      "[0]\n"
     ]
    }
   ],
   "source": [
    "# [\"Snowy\", \"Workday\", \"Morning\"]\n",
    "print(model.predict([[2, 1, 2]]))\n",
    "# Prints [1], meaning \"Yes\"\n",
    "# [\"Clear\", \"Weekend\", \"Lunch\"]\n",
    "print (model.predict([[0, 0, 1]]))\n",
    "# Prints [0], meaning \"No\""
   ]
  },
  {
   "cell_type": "markdown",
   "metadata": {},
   "source": [
    "### Aplicações\n",
    "- O Teorema de Bayes é bastante utilizado em Aprendizado de máquinas, principalmente nas classificações de um conjunto de dados."
   ]
  }
 ],
 "metadata": {
  "kernelspec": {
   "display_name": "Python 3",
   "language": "python",
   "name": "python3"
  },
  "language_info": {
   "codemirror_mode": {
    "name": "ipython",
    "version": 3
   },
   "file_extension": ".py",
   "mimetype": "text/x-python",
   "name": "python",
   "nbconvert_exporter": "python",
   "pygments_lexer": "ipython3",
   "version": "3.8.6"
  }
 },
 "nbformat": 4,
 "nbformat_minor": 4
}
