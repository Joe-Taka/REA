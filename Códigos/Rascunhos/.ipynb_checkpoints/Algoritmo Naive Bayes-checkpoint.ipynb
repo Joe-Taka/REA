{
 "cells": [
  {
   "cell_type": "markdown",
   "metadata": {},
   "source": [
    "### Referências\n",
    "https://www.mathsisfun.com/data/bayes-theorem.htmlhttps://www.mathsisfun.com/data/bayes-theorem.html\n",
    "https://machinelearningmastery.com/naive-bayes-classifier-scratch-python/"
   ]
  },
  {
   "cell_type": "markdown",
   "metadata": {},
   "source": [
    "### Teorema de Bayes\n",
    "O teorema de Bayes fornece um modo de calcular a probabilidade de uma hipótese baseado na probabilidade de outras hipóteses *a priori*."
   ]
  },
  {
   "cell_type": "markdown",
   "metadata": {},
   "source": [
    "#### Equação\n",
    "$$P(A|B) = \\frac{P(A) \\cdot P(B|A)}{P(B)}$$\n",
    "- $P(A|B)$: probabilidade do evento 'A' ocorrer dado que 'B' ocorreu\n",
    "- $P(A)$: probabilidade de 'A' ocorrer\n",
    "- $P(A|B)$: probabilidade do evento 'B' ocorrer dado que 'A' ocorreu\n",
    "- $P(B)$: probabilidade de 'B' ocorrer"
   ]
  },
  {
   "cell_type": "markdown",
   "metadata": {},
   "source": [
    "### Aplicações\n",
    "- O Teorema de Bayes é bastante utilizado em Aprendizado de máquinas, principalmente na criação de modelos a partir de um conjunto de dados."
   ]
  },
  {
   "cell_type": "code",
   "execution_count": null,
   "metadata": {},
   "outputs": [],
   "source": []
  }
 ],
 "metadata": {
  "kernelspec": {
   "display_name": "Python 3",
   "language": "python",
   "name": "python3"
  },
  "language_info": {
   "codemirror_mode": {
    "name": "ipython",
    "version": 3
   },
   "file_extension": ".py",
   "mimetype": "text/x-python",
   "name": "python",
   "nbconvert_exporter": "python",
   "pygments_lexer": "ipython3",
   "version": "3.8.6"
  }
 },
 "nbformat": 4,
 "nbformat_minor": 4
}
