{
 "cells": [
  {
   "cell_type": "markdown",
   "metadata": {},
   "source": [
    "### Referências\n",
    "https://www.mathsisfun.com/data/bayes-theorem.htmlhttps://www.mathsisfun.com/data/bayes-theorem.html\n",
    "https://machinelearningmastery.com/naive-bayes-classifier-scratch-python/ <br>\n",
    "https://machinelearningmastery.com/bayes-theorem-for-machine-learning/"
   ]
  },
  {
   "cell_type": "markdown",
   "metadata": {},
   "source": [
    "## Teorema de Bayes\n",
    "### O que é o Teorema de Bayes?\n",
    "O teorema de Bayes fornece um modo de calcular a probabilidade de uma hipótese baseado na probabilidade de outras hipóteses *a priori*. "
   ]
  },
  {
   "cell_type": "markdown",
   "metadata": {},
   "source": [
    "### Equação\n",
    "$$P(A|B) = \\frac{P(A) \\cdot P(B|A)}{P(B)}$$\n",
    "- $P(A|B)$: probabilidade do evento 'A' ocorrer dado que 'B' ocorreu\n",
    "- $P(A)$: probabilidade de 'A' ocorrer\n",
    "- $P(B|A)$: probabilidade do evento 'B' ocorrer dado que 'A' ocorreu\n",
    "- $P(B)$: probabilidade de 'B' ocorrer"
   ]
  },
  {
   "cell_type": "code",
   "execution_count": 1,
   "metadata": {},
   "outputs": [
    {
     "name": "stdout",
     "output_type": "stream",
     "text": [
      "P(A|B) = 0.339%\n"
     ]
    }
   ],
   "source": [
    "# calculate P(A|B) given P(A), P(B|A), P(B|not A)\n",
    "def bayes_theorem(p_a, p_b_given_a, p_b_given_not_a):\n",
    "\t# calculate P(not A)\n",
    "\tnot_a = 1 - p_a\n",
    "\t# calculate P(B)\n",
    "\tp_b = p_b_given_a * p_a + p_b_given_not_a * not_a\n",
    "\t# calculate P(A|B)\n",
    "\tp_a_given_b = (p_b_given_a * p_a) / p_b\n",
    "\treturn p_a_given_b\n",
    " \n",
    "# P(A)\n",
    "p_a = 0.0002\n",
    "# P(B|A)\n",
    "p_b_given_a = 0.85\n",
    "# P(B|not A)\n",
    "p_b_given_not_a = 0.05\n",
    "# calculate P(A|B)\n",
    "result = bayes_theorem(p_a, p_b_given_a, p_b_given_not_a)\n",
    "# summarize\n",
    "print('P(A|B) = %.3f%%' % (result * 100))"
   ]
  },
  {
   "cell_type": "markdown",
   "metadata": {},
   "source": [
    "### Aplicações\n",
    "- O Teorema de Bayes é bastante utilizado em Aprendizado de máquinas, principalmente nas classificações de um conjunto de dados."
   ]
  },
  {
   "cell_type": "markdown",
   "metadata": {},
   "source": [
    "### Exemplo da aplicação do Teorema de Bayes utilizando Scikit-Learn do Python"
   ]
  },
  {
   "cell_type": "code",
   "execution_count": 1,
   "metadata": {},
   "outputs": [],
   "source": [
    "from sklearn import preprocessing\n",
    "from sklearn.naive_bayes import GaussianNB"
   ]
  },
  {
   "cell_type": "code",
   "execution_count": 2,
   "metadata": {},
   "outputs": [
    {
     "name": "stdout",
     "output_type": "stream",
     "text": [
      "[0 0 0 0 0 0 1 1 1 1 1 1 2 2 2 2 2 2]\n",
      "[1 0 1 0 0 0 1 1 1 0 0 0 1 1 1 1 0 1]\n"
     ]
    }
   ],
   "source": [
    "def getWeather():\n",
    "    return ['Clear', 'Clear', 'Clear', 'Clear', 'Clear', 'Clear',\n",
    "            'Rainy', 'Rainy', 'Rainy', 'Rainy', 'Rainy', 'Rainy',\n",
    "            'Snowy', 'Snowy', 'Snowy', 'Snowy', 'Snowy', 'Snowy']\n",
    "\n",
    "def getTimeOfWeek():\n",
    "    return ['Workday', 'Workday', 'Workday',\n",
    "            'Weekend', 'Weekend', 'Weekend',\n",
    "            'Workday', 'Workday', 'Workday',\n",
    "            'Weekend', 'Weekend', 'Weekend',\n",
    "            'Workday', 'Workday', 'Workday',\n",
    "            'Weekend', 'Weekend', 'Weekend']\n",
    "\n",
    "def getTimeOfDay():\n",
    "    return ['Morning', 'Lunch', 'Evening',\n",
    "            'Morning', 'Lunch', 'Evening',\n",
    "            'Morning', 'Lunch', 'Evening',\n",
    "            'Morning', 'Lunch', 'Evening',\n",
    "            'Morning', 'Lunch', 'Evening',\n",
    "            'Morning', 'Lunch', 'Evening',\n",
    "            ]\n",
    "\n",
    "def getTrafficJam():\n",
    "    return ['Yes', 'No', 'Yes',\n",
    "            'No', 'No', 'No',\n",
    "            'Yes', 'Yes', 'Yes',\n",
    "            'No', 'No', 'No',\n",
    "            'Yes', 'Yes', 'Yes',\n",
    "            'Yes', 'No', 'Yes'\n",
    "            ]\n",
    "\n",
    "weather = ['Clear', 'Clear', 'Clear', 'Clear', 'Clear', 'Clear',\n",
    "            'Rainy', 'Rainy', 'Rainy', 'Rainy', 'Rainy', 'Rainy',\n",
    "            'Snowy', 'Snowy', 'Snowy', 'Snowy', 'Snowy', 'Snowy']\n",
    "\n",
    "labelEncoder = preprocessing.LabelEncoder();\n",
    "print (labelEncoder.fit_transform(weather))\n",
    "    \n",
    "trafficJam = ['Yes', 'No', 'Yes',\n",
    "            'No', 'No', 'No',\n",
    "            'Yes', 'Yes', 'Yes',\n",
    "            'No', 'No', 'No',\n",
    "            'Yes', 'Yes', 'Yes',\n",
    "            'Yes', 'No', 'Yes'\n",
    "            ]\n",
    "print(labelEncoder.fit_transform(trafficJam))"
   ]
  },
  {
   "cell_type": "code",
   "execution_count": 3,
   "metadata": {},
   "outputs": [
    {
     "data": {
      "text/plain": [
       "GaussianNB()"
      ]
     },
     "execution_count": 3,
     "metadata": {},
     "output_type": "execute_result"
    }
   ],
   "source": [
    "# Get the data\n",
    "weather = getWeather()\n",
    "timeOfWeek = getTimeOfWeek()\n",
    "timeOfDay = getTimeOfDay()\n",
    "trafficJam = getTrafficJam()\n",
    "\n",
    "labelEncoder = preprocessing.LabelEncoder()\n",
    "\n",
    "# Encode the features and the labels\n",
    "encodedWeather = labelEncoder.fit_transform(weather)\n",
    "encodedTimeOfWeek = labelEncoder.fit_transform(timeOfWeek)\n",
    "encodedTimeOfDay = labelEncoder.fit_transform(timeOfDay)\n",
    "encodedTrafficJam = labelEncoder.fit_transform(trafficJam)\n",
    "\n",
    "# Build the features\n",
    "features = []\n",
    "for i in range(len(encodedWeather)):\n",
    "    features.append([encodedWeather[i], encodedTimeOfWeek[i], encodedTimeOfDay[i]])\n",
    "\n",
    "model = GaussianNB()\n",
    "\n",
    "# Train the model\n",
    "model.fit(features, encodedTrafficJam)"
   ]
  },
  {
   "cell_type": "code",
   "execution_count": 5,
   "metadata": {},
   "outputs": [
    {
     "name": "stdout",
     "output_type": "stream",
     "text": [
      "[1]\n",
      "[0]\n"
     ]
    }
   ],
   "source": [
    "# [\"Snowy\", \"Workday\", \"Morning\"]\n",
    "print(model.predict([[2, 1, 2]]))\n",
    "# Prints [1], meaning \"Yes\"\n",
    "# [\"Clear\", \"Weekend\", \"Lunch\"]\n",
    "print (model.predict([[0, 0, 1]]))\n",
    "# Prints [0], meaning \"No\""
   ]
  },
  {
   "cell_type": "code",
   "execution_count": null,
   "metadata": {},
   "outputs": [],
   "source": []
  }
 ],
 "metadata": {
  "kernelspec": {
   "display_name": "Python 3",
   "language": "python",
   "name": "python3"
  },
  "language_info": {
   "codemirror_mode": {
    "name": "ipython",
    "version": 3
   },
   "file_extension": ".py",
   "mimetype": "text/x-python",
   "name": "python",
   "nbconvert_exporter": "python",
   "pygments_lexer": "ipython3",
   "version": "3.8.6"
  }
 },
 "nbformat": 4,
 "nbformat_minor": 4
}
