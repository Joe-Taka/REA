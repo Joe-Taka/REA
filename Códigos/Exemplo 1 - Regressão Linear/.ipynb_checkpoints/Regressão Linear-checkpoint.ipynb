{
 "cells": [
  {
   "cell_type": "markdown",
   "metadata": {},
   "source": [
    "## Regressão Linear"
   ]
  },
  {
   "cell_type": "markdown",
   "metadata": {},
   "source": [
    "### O que é Regressão Linear?\n",
    "- Uma regressão linear nada mais é do que uma equação matemática utilizada para se estimar o valor de uma variável y, dados os valores de algumas outras variáveis x.\n",
    "- Os modelos de regressão **simples** envolvem somente duas variáveis: uma independente $x$ e uma dependente $y$.\n",
    "- Ela é chamada **linear** poque a relação entre os parâmetros se dá por uma **função linear** do tipo:\n",
    "\n",
    "$$\\large F(x) = y = m \\cdot x + c$$ \n",
    "\n",
    "Onde $x$ é a variável independente, $y$ é a variável dependente, $m$ é o coeficiente angular/**declive** e $c$ é o coeficiente linear/**intercepto**.\n",
    "- O parâmetro $c$ é o valor de $F(x)$ quando $x = 0$.\n",
    "- O parâmetro $m$ é a variação em $F(x)$ quando variamos $x$ em 1 unidade.\n",
    "\n",
    "O que pretendemos aqui é, a partir de um conjunto de dados $(x,y)$, obter um modelo linear de função $F(x) = y$ que relacione de modo mais **exato** possível a relação entre  as variáveis $x$ e $y$.\n",
    "\n",
    "Para que possamos entender a regressão linear em sua integridade, duas concepções são bastante importantes: a de **Função de Custo** e **Gradiente Descendente**."
   ]
  },
  {
   "cell_type": "markdown",
   "metadata": {},
   "source": [
    "### Loss Function/Função de Custo\n",
    "No contexto de otimização algorítmica, a função que queremos minimar ou maximizar é denominada **função objetivo**. Quando queremos minimizá-la, ela é chamada **função de custo**.\n",
    "- A função de custo computa a diferença entre o valor obtido em nosso modelo ($y_{modelo}$) e o valor real ($y_{real}$).\n",
    "- **Entropia cruzada** e **Erro Quadrático Médio** são os tipos de funções de custo mais comuns.\n",
    "- A fórmula para o Erro Quadrático Médio para $n$ amostras de dados é:\n",
    "\n",
    "$$\\large E=\\frac{1}{n}\\sum_{i=0}^{n}(y_{i,real} - y_{i,modelo})^{2} = \\frac{1}{n}\\sum_{i=0}^{n}(y_{i,real} - (m \\cdot x_{i} + c))^{2}$$\n",
    "\n",
    "Em sua essência, o conceito de função de custo é bastante simples: é um método para avaliar o quão bem o seu algoritmo modela o conjunto de dados em estudo. Se as predições estiverem totalmente erradas, a função de custo terá um valor maior. Se as predições estiverem corretas, a função de custo terá um valor menor. Na medida que mudados o nosso algorítmo, a função de custo irá nos dizer se estamos indo para o caminho correto."
   ]
  },
  {
   "cell_type": "markdown",
   "metadata": {},
   "source": [
    "### Gradient Descent/Gradiente Descendente\n",
    "Gradiente Descendente é um algoritmo de optimização usado para obter o mínimo de uma função diferenciável. Aqui, ela será utilizada para realizar o ajuste dos parâmetros $m$ e $c$ de forma iterativa com o objetivo de encontrar os valores para esses parâmetros que minimizem a função de custo o máximo possível.\n",
    "- O Método do Gradiente se inicia atribuindo valores aleatórios para os parâmetros $m$ e $c$, valores estes que irão melhorar gradualmente a cada iteração, dando um pequeno passo de cada vez até que a função de custo convirja para um mínimo. \n",
    "- O tamanho dos passos é definido por um parâmetro denominado **Taxa de aprendizado**.\n",
    "- Na aplicação do Método do Gradiente, utilizamos as derivadas parciais da função de custo em relação a $m$ e em relação a $c$. O objetivo do método é, então, achar o mínimo global da função de custo a partir dessas derivadas parciais. <br>\n",
    "\n",
    "$$\\large D_{m} = \\frac{2}{n}\\sum_{i=0}^{n}(y_{i,real} - (m \\cdot x_{i} + c))\\cdot(-x_{i}) = \\frac{-2}{n}\\sum_{i=0}^{n}(y_{i,real} - y_{i,modelo})$$"
   ]
  },
  {
   "cell_type": "markdown",
   "metadata": {},
   "source": [
    "$$\\large D_{c} = \\frac{-2}{n}\\sum_{i=0}^{n}(y_{i,real} - y_{i,modelo})$$"
   ]
  },
  {
   "cell_type": "markdown",
   "metadata": {},
   "source": [
    "### Regressão Linear por Gradiente Descendente no Python\n",
    "Vamos modelar uma função $F(x)$ para um conjuntos de dados armazenados em um arquivo csv, utilizando o Erro Quadrático Médio e o Gradiente Descendente.\n",
    "- Plotando o gráfico de dispersão das amostras para um conjunto de dados.\n",
    "- Link dos dados: <br>\n",
    "https://github.com/Joe-Taka/REA/blob/main/C%C3%B3digos/Exemplo%201%20-%20Regress%C3%A3o%20Linear/data.csv"
   ]
  },
  {
   "cell_type": "code",
   "execution_count": 1,
   "metadata": {},
   "outputs": [
    {
     "data": {
      "image/png": "[encoded data removed]",
      "text/plain": [
       "<Figure size 504x432 with 1 Axes>"
      ]
     },
     "metadata": {
      "needs_background": "light"
     },
     "output_type": "display_data"
    }
   ],
   "source": [
    "import numpy as np\n",
    "import pandas as pd\n",
    "import matplotlib.pyplot as plt\n",
    "\n",
    "# Definindo um tamanho para a figura\n",
    "plt.figure(figsize=(7,6))\n",
    "\n",
    "# Pegando os valores do arquivo 'csv'\n",
    "data = pd.read_csv('data.csv')\n",
    "\n",
    "# Pegando a 1° coluna\n",
    "X = data.iloc[:, 0]\n",
    "\n",
    "# Pegando a 2° coluna\n",
    "Y = data.iloc[:, 1]\n",
    "\n",
    "# Gerando um gráfico de dispersão para as amostras\n",
    "plt.scatter(X, Y)\n",
    "\n",
    "plt.show()"
   ]
  },
  {
   "cell_type": "markdown",
   "metadata": {},
   "source": [
    "Aplicando o **Gradiente Descendente**\n",
    "  - Começamos atribuindo valores nulos para os parâmetros $m$ e $c$ e iteramos as derivadas parciais da função de custo mil vezes, até encontrar os valores ótimos para os parâmetros:"
   ]
  },
  {
   "cell_type": "code",
   "execution_count": 2,
   "metadata": {},
   "outputs": [
    {
     "name": "stdout",
     "output_type": "stream",
     "text": [
      "Valor para m: 1.48; Valor para c: 0.10\n"
     ]
    },
    {
     "data": {
      "image/png": "[encoded data removed]",
      "text/plain": [
       "<Figure size 504x432 with 1 Axes>"
      ]
     },
     "metadata": {
      "needs_background": "light"
     },
     "output_type": "display_data"
    }
   ],
   "source": [
    "# Suposições iniciais para os parâmetros\n",
    "m = 0\n",
    "c = 0\n",
    "\n",
    "plt.figure(figsize=(7,6))\n",
    "\n",
    "L = 0.0001  # Taxa de aprendizado\n",
    "epochs = 1000  # Número de iterações para o Gradiente Descendente\n",
    "\n",
    "n = float(len(X)) # Número de elementos de X\n",
    "\n",
    "# Aplicando a iteração do Método Gradiente \n",
    "for i in range(epochs): \n",
    "    Y_pred = m*X + c  # Valor atual suposto para Y\n",
    "    D_m = (-2/n) * sum(X * (Y - Y_pred)) \n",
    "    D_c = (-2/n) * sum(Y - Y_pred) \n",
    "    m = m - L * D_m  # Atualizando m\n",
    "    c = c - L * D_c  # Atualizando c\n",
    "    \n",
    "print (f\"Valor para m: {m:.2f}; Valor para c: {c:.2f}\")\n",
    "\n",
    "Y_pred = m*X + c\n",
    "\n",
    "plt.scatter(X, Y) \n",
    "plt.plot([min(X), max(X)], [min(Y_pred), max(Y_pred)], color='red')  # regression line\n",
    "plt.show()"
   ]
  },
  {
   "cell_type": "markdown",
   "metadata": {},
   "source": [
    "- Para o conjunto de dados fornecidos em nosso exemplo, a função do nosso modelo fica, então: <br>\n",
    "$$ \\large F(x) = 1,48 \\cdot x + 0,10$$"
   ]
  },
  {
   "cell_type": "markdown",
   "metadata": {},
   "source": [
    "### Aplicações\n",
    "O modelo de regressão linear é muito utilizado em:\n",
    "- Aprendizado de máquina, como uma ferramenta de predição.\n",
    "- Em modelo de negócios, pode ser utilizado para gerar insights à respeito do comportamento do consumidor, de modo a entender os fatores que possam influenciar na lucratividade do negócio. Por exemplo, se as vendas de uma empresa aumentaram constantemente todos os meses nos últimos anos, ao se realizar uma análise linear dos dados de vendas com as vendas mensais, a empresa é capaz de prever as vendas nos meses futuros. \n",
    "- Química analítica, principalmente na calibração de dados para gerar as chamadas **curvas de calibração**.\n",
    "- Nas ciências dos materiais, como uma forma de prever as propriedades de certos materiais.\n",
    "- Em finanças, como uma ferramenta para traçar as curvas de tendências de ativos."
   ]
  }
 ],
 "metadata": {
  "kernelspec": {
   "display_name": "Python 3",
   "language": "python",
   "name": "python3"
  },
  "language_info": {
   "codemirror_mode": {
    "name": "ipython",
    "version": 3
   },
   "file_extension": ".py",
   "mimetype": "text/x-python",
   "name": "python",
   "nbconvert_exporter": "python",
   "pygments_lexer": "ipython3",
   "version": "3.8.6"
  }
 },
 "nbformat": 4,
 "nbformat_minor": 4
}
