{
 "cells": [
  {
   "attachments": {
    "1225846e-e592-4081-bff2-911af5b2f6d5.png": {
     "image/png": "[encoded data removed]"
    }
   },
   "cell_type": "markdown",
   "metadata": {},
   "source": [
    "### Random Vector/Vetor aleatório\n",
    "https://www.probabilitycourse.com/chapter6/6_1_5_random_vectors.php <br>\n",
    "When dealing with multiple random variables, it is sometimes useful to use vector and matrix notations. When we have n random variables X1, X2, ..., Xn we can put them in a (column) vector X <br>\n",
    "![image.png](attachment:1225846e-e592-4081-bff2-911af5b2f6d5.png)\n",
    "- We call X a **random vector**. Here X is an n-dimensional vector because it consists of n random variables. "
   ]
  },
  {
   "cell_type": "markdown",
   "metadata": {},
   "source": [
    "### Loss Function/Função de Custo\n",
    "The function we want to minimize or maximize is called the **objective function** or criterion. When we are minimizing it, we may also call it the cost function, loss function, or error function.\n",
    "- The loss function is the function that computes the distance between the current output of the algorithm and the expected output.\n",
    "- Cross-entropy and mean squared error are the two main types of loss functions to use when training neural network models.\n",
    "- At its core, a loss function is incredibly simple: It’s a method of evaluating how well your algorithm models your dataset. If your predictions are totally off, your loss function will output a higher number. If they’re pretty good, it’ll output a lower number. As you change pieces of your algorithm to try and improve your model, your loss function will tell you if you’re getting anywhere."
   ]
  },
  {
   "cell_type": "markdown",
   "metadata": {},
   "source": [
    "### Modelo de Regressão Linear\n",
    "https://matheusfacure.github.io/2017/03/03/func-custo-regr/#func-obj "
   ]
  },
  {
   "cell_type": "markdown",
   "metadata": {},
   "source": [
    "#### Implementando no Pytorch\n",
    "https://www.tutorialspoint.com/pytorch/pytorch_linear_regression.htm <br>"
   ]
  },
  {
   "cell_type": "markdown",
   "metadata": {},
   "source": [
    "1. Vamos importar as bibliotecas 'numpy', 'matplotlib' e 'pandas':"
   ]
  },
  {
   "cell_type": "code",
   "execution_count": 2,
   "metadata": {},
   "outputs": [],
   "source": [
    "import numpy as np\n",
    "import matplotlib.pyplot as plt\n",
    "from matplotlib.animation import FuncAnimation\n",
    "import pandas as pd"
   ]
  },
  {
   "cell_type": "markdown",
   "metadata": {},
   "source": [
    "2. Atribuindo valores para os coeficientes e utilizando 'np.random.rand(256)' para criar os 256 valores aleatórios de [0~1] que irá compor os dados de x."
   ]
  },
  {
   "cell_type": "code",
   "execution_count": 15,
   "metadata": {},
   "outputs": [
    {
     "name": "stdout",
     "output_type": "stream",
     "text": [
      "<class 'numpy.ndarray'>\n"
     ]
    }
   ],
   "source": [
    "A = 2 # coeficiente angular\n",
    "B = 3 # intercept\n",
    "x = np.random.rand(256)\n",
    "\n",
    "print(type(x))\n",
    "\n",
    "noise = np.random.randn(256) / 4\n",
    "\n",
    "y = A * x + B + noise\n"
   ]
  },
  {
   "cell_type": "markdown",
   "metadata": {},
   "source": [
    "<hr>\n",
    "https://towardsdatascience.com/linear-regression-using-gradient-descent-97a6c8700931"
   ]
  },
  {
   "cell_type": "markdown",
   "metadata": {},
   "source": [
    "## Regressão Linear"
   ]
  },
  {
   "cell_type": "markdown",
   "metadata": {},
   "source": [
    "### O que é Regressão Linear?\n",
    "- Uma regressão linear nada mais é do que uma equação matemática utilizada para se estimar o valor de uma variável y, dados os valores de algumas outras variáveis x.\n",
    "- Os modelos de regressão **simples** envolvem somente duas variáveis: uma independente $x$ e uma dependente $y$.\n",
    "- Ela é chamada **linear** poque a relação entre os parâmetros se dá por uma **função linear** do tipo:\n",
    "\n",
    "$$\\large F(x) = y = m \\cdot x + c$$ \n",
    "\n",
    "Onde $x$ é a variável independente, $y$ é a variável dependente, $m$ é o coeficiente angular/**declive** e $c$ é o coeficiente linear/**intercepto**.\n",
    "- O parâmetro $c$ é o valor de $F(x)$ quando $x = 0$.\n",
    "- O parâmetro $m$ é a variação em $F(x)$ quando variamos $x$ em 1 unidade.\n",
    "\n",
    "O que pretendemos aqui é, a partir de um conjunto de dados $(x,y)$, obter um modelo linear de função $F(x) = y$ que relacione de modo mais **exato** possível a relação entre  as variáveis $x$ e $y$.\n",
    "\n",
    "Para que possamos entender a regressão linear em sua integridade, 2 concepções são bastante importantes: a de **Função de Custo** e **Gradiente Descendente**."
   ]
  },
  {
   "cell_type": "markdown",
   "metadata": {},
   "source": [
    "### Loss Function/Função de Custo\n",
    "No contexto de otimização algorítmica, a função que queremos minimar ou maximizar é denominada **função objetivo**. Quando queremos minimizá-la, ela é chamada **função de custo**.\n",
    "- A função de custo computa a diferença entre o valor obtido em nosso modelo ($y_{modelo}$) e o valor real ($y_{real}$).\n",
    "- **Entropia cruzada** e **Erro Quadrático Médio** são os tipos de funções de custo mais comuns.\n",
    "- A fórmula para o Erro Quadrático Médio para $n$ amostras de dados é:\n",
    "\n",
    "$$\\large E=\\frac{1}{n}\\sum_{i=0}^{n}(y_{i,real} - y_{i,modelo})^{2} = \\frac{1}{n}\\sum_{i=0}^{n}(y_{i,real} - (m \\cdot x_{i} + c))^{2}$$\n",
    "\n",
    "Em sua essência, o conceito de função de custo é bastante simples: é um método para avaliar o quão bem o seu algoritmo modela o conjunto de dados em estudo. Se as predições estiverem totalmente erradas, a função de custo terá um valor maior. Se as predições estiverem corretas, a função de custo terá um valor menor. Na medida que mudados o nosso algorítmo, a função de custo irá nos dizer se estamos indo para o caminho correto."
   ]
  },
  {
   "cell_type": "markdown",
   "metadata": {},
   "source": [
    "### Gradient Descent/Gradiente Descendente\n",
    "Gradiente Descendente é um algoritmo de optimização usado para obter o mínimo de uma função diferenciável. Aqui, ela será utilizada para realizar o ajuste dos parâmetros $m$ e $c$ de forma iterativa com o objetivo de encontrar os valores para esses parâmetros que minimizem a função de custo o máximo possível.\n",
    "- O Método do Gradiente se inicia atribuindo valores aleatórios para os parâmetros $m$ e $c$, valores estes que irão melhorar gradualmente a cada iteração, dando um pequeno passo de cada vez até que a função de custo convirja para um mínimo. \n",
    "- O tamanho dos passos é definido por um parâmetro denominado **Taxa de aprendizado**.\n",
    "- Na aplicação do Método do Gradiente, utilizamos as derivadas parciais da função de custo em relação a $m$ e em relação a $c$. O objetivo do método é, então, achar o mínimo global da função de custo a partir dessas derivadas parciais. <br>\n",
    "\n",
    "$$\\large D_{m} = \\frac{2}{n}\\sum_{i=0}^{n}(y_{i,real} - (m \\cdot x_{i} + c))\\cdot(-x_{i}) = \\frac{-2}{n}\\sum_{i=0}^{n}(y_{i,real} - y_{i,modelo})$$\n",
    "\n",
    "$$\\large D_{c} = \\frac{-2}{n}\\sum_{i=0}^{n}(y_{i,real} - y_{i,modelo})$$"
   ]
  },
  {
   "cell_type": "markdown",
   "metadata": {},
   "source": [
    "### Regressão Linear por Gradiente Descendente no Python\n",
    "Vamos modelar uma função $F(x)$ para um conjuntos de dados armazenados em um arquivo csv, utilizando o Erro Quadrático Médio e o Gradiente Descendente.\n",
    "1. Plotando o gráfico de dispersão das amostras"
   ]
  },
  {
   "cell_type": "code",
   "execution_count": 2,
   "metadata": {},
   "outputs": [
    {
     "data": {
      "image/png": "[encoded data removed]",
      "text/plain": [
       "<Figure size 864x648 with 1 Axes>"
      ]
     },
     "metadata": {
      "needs_background": "light"
     },
     "output_type": "display_data"
    }
   ],
   "source": [
    "import numpy as np\n",
    "import pandas as pd\n",
    "import matplotlib.pyplot as plt\n",
    "\n",
    "# Definindo um tamanho para a figura\n",
    "plt.figure(figsize=(12,9))\n",
    "\n",
    "# Pegando os valores do arquivo 'csv'\n",
    "data = pd.read_csv('data.csv')\n",
    "\n",
    "# Pegando a 1° coluna\n",
    "X = data.iloc[:, 0]\n",
    "\n",
    "# Pegando a 2° coluna\n",
    "Y = data.iloc[:, 1]\n",
    "\n",
    "# Gerando um gráfico de dispersão para as amostras\n",
    "plt.scatter(X, Y)\n",
    "\n",
    "plt.show()"
   ]
  },
  {
   "cell_type": "markdown",
   "metadata": {},
   "source": [
    "aaa"
   ]
  },
  {
   "cell_type": "code",
   "execution_count": 13,
   "metadata": {},
   "outputs": [
    {
     "name": "stdout",
     "output_type": "stream",
     "text": [
      "1.4796491688889395 0.10148121494753726\n"
     ]
    },
    {
     "data": {
      "image/png": "[encoded data removed]",
      "text/plain": [
       "<Figure size 432x288 with 1 Axes>"
      ]
     },
     "metadata": {
      "needs_background": "light"
     },
     "output_type": "display_data"
    }
   ],
   "source": [
    "# Suposições iniciais para os parâmetros\n",
    "m = 0\n",
    "c = 0\n",
    "\n",
    "L = 0.0001  # Taxa de aprendizado\n",
    "epochs = 1000  # Número de iterações para o Gradiente Descendente\n",
    "\n",
    "n = float(len(X)) # Número de elementos de X\n",
    "\n",
    "# Aplicando o Método Gradiente \n",
    "for i in range(epochs): \n",
    "    Y_pred = m*X + c  # Valor atual suposto para Y\n",
    "    D_m = (-2/n) * sum(X * (Y - Y_pred))  # Derivative wrt m\n",
    "    D_c = (-2/n) * sum(Y - Y_pred)  # Derivative wrt c\n",
    "    m = m - L * D_m  # Update m\n",
    "    c = c - L * D_c  # Update c\n",
    "    \n",
    "print (m, c)\n",
    "\n",
    "Y_pred = m*X + c\n",
    "\n",
    "plt.scatter(X, Y) \n",
    "plt.plot([min(X), max(X)], [min(Y_pred), max(Y_pred)], color='red')  # regression line\n",
    "plt.show()"
   ]
  },
  {
   "cell_type": "markdown",
   "metadata": {},
   "source": [
    "### Aplicações\n",
    "O modelo de regressão linear pode ser utilizado relacionar, por exemplo:\n",
    "- A altura das pessoas com o seu peso."
   ]
  },
  {
   "cell_type": "code",
   "execution_count": null,
   "metadata": {},
   "outputs": [],
   "source": []
  }
 ],
 "metadata": {
  "kernelspec": {
   "display_name": "Python 3",
   "language": "python",
   "name": "python3"
  },
  "language_info": {
   "codemirror_mode": {
    "name": "ipython",
    "version": 3
   },
   "file_extension": ".py",
   "mimetype": "text/x-python",
   "name": "python",
   "nbconvert_exporter": "python",
   "pygments_lexer": "ipython3",
   "version": "3.8.6"
  }
 },
 "nbformat": 4,
 "nbformat_minor": 4
}
