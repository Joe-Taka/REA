{
 "cells": [
  {
   "attachments": {
    "1225846e-e592-4081-bff2-911af5b2f6d5.png": {
     "image/png": "[encoded data removed]"
    }
   },
   "cell_type": "markdown",
   "metadata": {},
   "source": [
    "### Random Vector/Vetor aleatório\n",
    "https://www.probabilitycourse.com/chapter6/6_1_5_random_vectors.php <br>\n",
    "When dealing with multiple random variables, it is sometimes useful to use vector and matrix notations. When we have n random variables X1, X2, ..., Xn we can put them in a (column) vector X <br>\n",
    "![image.png](attachment:1225846e-e592-4081-bff2-911af5b2f6d5.png)\n",
    "- We call X a **random vector**. Here X is an n-dimensional vector because it consists of n random variables. "
   ]
  },
  {
   "cell_type": "markdown",
   "metadata": {},
   "source": [
    "### Loss Function/Função de Custo\n",
    "The function we want to minimize or maximize is called the **objective function** or criterion. When we are minimizing it, we may also call it the cost function, loss function, or error function.\n",
    "- The loss function is the function that computes the distance between the current output of the algorithm and the expected output.\n",
    "- Cross-entropy and mean squared error are the two main types of loss functions to use when training neural network models.\n",
    "- At its core, a loss function is incredibly simple: It’s a method of evaluating how well your algorithm models your dataset. If your predictions are totally off, your loss function will output a higher number. If they’re pretty good, it’ll output a lower number. As you change pieces of your algorithm to try and improve your model, your loss function will tell you if you’re getting anywhere."
   ]
  },
  {
   "cell_type": "markdown",
   "metadata": {},
   "source": [
    "### Modelo de Regressão Linear\n",
    "https://matheusfacure.github.io/2017/03/03/func-custo-regr/#func-obj <br>\n",
    "Nos modelos de regressão lineares, queremos saber a função $F(x)$ para predizer o valor de saída Y. O modelo exige uma função de custo: a mais comum é o erro quadrático médio: $L=(y−\\hat{y})^{2}$."
   ]
  },
  {
   "cell_type": "code",
   "execution_count": null,
   "metadata": {},
   "outputs": [],
   "source": []
  }
 ],
 "metadata": {
  "kernelspec": {
   "display_name": "Python 3",
   "language": "python",
   "name": "python3"
  },
  "language_info": {
   "codemirror_mode": {
    "name": "ipython",
    "version": 3
   },
   "file_extension": ".py",
   "mimetype": "text/x-python",
   "name": "python",
   "nbconvert_exporter": "python",
   "pygments_lexer": "ipython3",
   "version": "3.8.6"
  }
 },
 "nbformat": 4,
 "nbformat_minor": 4
}
