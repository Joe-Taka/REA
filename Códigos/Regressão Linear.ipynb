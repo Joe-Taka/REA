{
 "cells": [
  {
   "attachments": {
    "1225846e-e592-4081-bff2-911af5b2f6d5.png": {
     "image/png": "[encoded data removed]"
    }
   },
   "cell_type": "markdown",
   "metadata": {},
   "source": [
    "### Random Vector/Vetor aleatório\n",
    "https://www.probabilitycourse.com/chapter6/6_1_5_random_vectors.php <br>\n",
    "When dealing with multiple random variables, it is sometimes useful to use vector and matrix notations. When we have n random variables X1, X2, ..., Xn we can put them in a (column) vector X <br>\n",
    "![image.png](attachment:1225846e-e592-4081-bff2-911af5b2f6d5.png)\n",
    "- We call X a **random vector**. Here X is an n-dimensional vector because it consists of n random variables. "
   ]
  },
  {
   "cell_type": "markdown",
   "metadata": {},
   "source": [
    "### Loss Function/Função de Custo\n",
    "The function we want to minimize or maximize is called the **objective function** or criterion. When we are minimizing it, we may also call it the cost function, loss function, or error function.\n",
    "- The loss function is the function that computes the distance between the current output of the algorithm and the expected output.\n",
    "- Cross-entropy and mean squared error are the two main types of loss functions to use when training neural network models.\n",
    "- At its core, a loss function is incredibly simple: It’s a method of evaluating how well your algorithm models your dataset. If your predictions are totally off, your loss function will output a higher number. If they’re pretty good, it’ll output a lower number. As you change pieces of your algorithm to try and improve your model, your loss function will tell you if you’re getting anywhere."
   ]
  },
  {
   "cell_type": "markdown",
   "metadata": {},
   "source": [
    "### Modelo de Regressão Linear\n",
    "https://matheusfacure.github.io/2017/03/03/func-custo-regr/#func-obj <br>\n",
    "Nos modelos de regressões lineares, queremos saber uma função $F(x)$ que possa predizer um valor de saída Y dado um valor x. O modelo exige uma função de custo - a mais comum é o erro quadrático médio: $$E=\\frac{1}{n}\\sum_{i=0}^{n}(y - \\hat{y})^{2}$$"
   ]
  },
  {
   "cell_type": "markdown",
   "metadata": {},
   "source": [
    "### Gradient Descent/Gradiente Descendente\n",
    "Gradient Descent is an optimization algorithm for finding a local minimum of a differentiable function. Gradient descent is simply used to find the values of a function's parameters (coefficients) that minimize a cost function as far as possible."
   ]
  },
  {
   "cell_type": "markdown",
   "metadata": {},
   "source": [
    "#### Implementando no Pytorch\n",
    "https://www.tutorialspoint.com/pytorch/pytorch_linear_regression.htm <br>\n",
    "Considerando uma função linear do tipo $F(x) = m \\cdot x + c$ onde 'x' é a variável independente, 'y' é a variável dependente, 'm' é o coeficiente angular/declive e 'c' é o coeficiente linear/intercepto, vamos aplicar um modelo de regressão linear em um conjunto de dados gerados aleatoriamente."
   ]
  },
  {
   "cell_type": "markdown",
   "metadata": {},
   "source": [
    "1. Vamos importar as bibliotecas 'numpy', 'matplotlib' e 'pandas':"
   ]
  },
  {
   "cell_type": "code",
   "execution_count": 2,
   "metadata": {},
   "outputs": [],
   "source": [
    "import numpy as np\n",
    "import matplotlib.pyplot as plt\n",
    "from matplotlib.animation import FuncAnimation\n",
    "import pandas as pd"
   ]
  },
  {
   "cell_type": "markdown",
   "metadata": {},
   "source": [
    "2. Atribuindo valores para os coeficientes e utilizando 'np.random.rand(256)' para criar os 256 valores aleatórios de [0~1] que irá compor os dados de x."
   ]
  },
  {
   "cell_type": "code",
   "execution_count": 15,
   "metadata": {},
   "outputs": [
    {
     "name": "stdout",
     "output_type": "stream",
     "text": [
      "<class 'numpy.ndarray'>\n"
     ]
    }
   ],
   "source": [
    "A = 2 # coeficiente angular\n",
    "B = 3 # intercept\n",
    "x = np.random.rand(256)\n",
    "\n",
    "print(type(x))\n",
    "\n",
    "noise = np.random.randn(256) / 4\n",
    "\n",
    "y = A * x + B + noise\n"
   ]
  },
  {
   "cell_type": "markdown",
   "metadata": {},
   "source": [
    "<hr>\n",
    "https://towardsdatascience.com/linear-regression-using-gradient-descent-97a6c8700931"
   ]
  },
  {
   "cell_type": "markdown",
   "metadata": {},
   "source": [
    "## Regressão Linear"
   ]
  },
  {
   "cell_type": "markdown",
   "metadata": {},
   "source": [
    "### O que é Regressão Linear?\n",
    "- Uma regressão linear nada mais é do que uma equação matemática utilizada para se estimar o valor de uma variável y, dados os valores de algumas outras variáveis x.\n",
    "- Os modelos de regressão simples envolvem somente duas variáveis: uma independente 'x' e uma dependente 'y'.\n",
    "- Ela é chamada linear poque a relação entre os parâmetros se dá por uma função linear do tipo:\n"
   ]
  },
  {
   "cell_type": "markdown",
   "metadata": {},
   "source": [
    "### Função de Custo\n",
    "    No contexto de otimização algorítmica, a função que queremos minimar ou maximizar é denominada **função objetivo**. Quando queremos minimizá-la, ela é chamada **função de custo**.\n",
    "- A função de custo computa a distância entre o valor obtido em nosso modelo e o valor real.\n",
    "- 'Entropia cruzada' e 'Erro Quadrático Médio' são os tipos de funções de custo mais comuns."
   ]
  },
  {
   "cell_type": "markdown",
   "metadata": {},
   "source": [
    "### Regressão Linear no Python\n",
    "    Considerando uma função linear do tipo $F(x) = y = m \\cdot x + c$ onde 'x' é a variável independente, 'y' é a variável dependente, 'm' é o coeficiente angular/declive e 'c' é o coeficiente linear/intercepto, vamos aplicar um modelo de regressão linear em um conjunto de dados de um arquivo csv. <br>\n",
    "Nos modelos de regressões lineares, queremos modelar uma função $F(x)$ que possa nos fornecer um valor de saída y dado qualquer valor x. O modelo exige uma função de custo que mostra a discrepância entre o valor fornecido pelo nosso modelo e o valor real. O tipo de função de custo mais utilizado é o erro quadrático médio: $$E=\\frac{1}{n}\\sum_{i=0}^{n}(y - \\hat{y})^{2}$$"
   ]
  },
  {
   "cell_type": "markdown",
   "metadata": {},
   "source": [
    "### Gradient Descent/Gradiente Descendente\n",
    "Gradiente Descendente é um algoritmo de optimização usado para obter o valor mínimo de uma função diferenciável. Aqui, vamos utilizar o método para obter os valores dos parâmetros da função que minimizem \n",
    "\n",
    "\n",
    "Gradient Descent is an optimization algorithm for finding a local minimum of a differentiable function. Gradient descent is simply used to find the values of a function's parameters (coefficients) that minimize a cost function as far as possible."
   ]
  },
  {
   "cell_type": "code",
   "execution_count": 27,
   "metadata": {},
   "outputs": [
    {
     "name": "stdout",
     "output_type": "stream",
     "text": [
      "    32.502345269453031  31.70700584656992\n",
      "0            53.426804         128.777596\n",
      "1            61.530358         112.562382\n",
      "2            47.475640          81.546632\n",
      "3            59.813208         127.230925\n",
      "4            55.142188         118.211518\n",
      "..                 ...                ...\n",
      "94           50.030174          81.536991\n",
      "95           49.239765          82.111832\n",
      "96           50.039576          85.232007\n",
      "97           48.149859          86.224958\n",
      "98           25.128485          53.454394\n",
      "\n",
      "[99 rows x 2 columns]\n"
     ]
    },
    {
     "data": {
      "image/png": "[encoded data removed]",
      "text/plain": [
       "<Figure size 864x648 with 1 Axes>"
      ]
     },
     "metadata": {
      "needs_background": "light"
     },
     "output_type": "display_data"
    }
   ],
   "source": [
    "import numpy as np\n",
    "import pandas as pd\n",
    "import matplotlib.pyplot as plt\n",
    "\n",
    "plt.figure(figsize=(12,9))\n",
    "\n",
    "data = pd.read_csv('data2.csv')\n",
    "\n",
    "print(data)\n",
    "\n",
    "# Pegando a 1° coluna\n",
    "X = data.iloc[:, 0]\n",
    "\n",
    "# Pegando a 2° coluna\n",
    "Y = data.iloc[:, 1]\n",
    "\n",
    "# Gerando \n",
    "plt.scatter(X, Y)\n",
    "\n",
    "plt.show()"
   ]
  },
  {
   "cell_type": "code",
   "execution_count": 35,
   "metadata": {},
   "outputs": [
    {
     "name": "stdout",
     "output_type": "stream",
     "text": [
      "1.8250197338466723 -0.17776908420439655\n"
     ]
    },
    {
     "data": {
      "image/png": "[encoded data removed]",
      "text/plain": [
       "<Figure size 720x648 with 1 Axes>"
      ]
     },
     "metadata": {
      "needs_background": "light"
     },
     "output_type": "display_data"
    }
   ],
   "source": [
    "# Building the model\n",
    "m = 0\n",
    "c = 0\n",
    "\n",
    "L = 0.0001  # The learning Rate\n",
    "epochs = 1000  # The number of iterations to perform gradient descent\n",
    "\n",
    "n = float(len(X)) # Number of elements in X\n",
    "\n",
    "# Aplicando o Método Gradiente \n",
    "for i in range(epochs): \n",
    "    Y_pred = m*X + c  # The current predicted value of Y\n",
    "    D_m = (-2/n) * sum(X * (Y - Y_pred))  # Derivative wrt m\n",
    "    D_c = (-2/n) * sum(Y - Y_pred)  # Derivative wrt c\n",
    "    m = m - L * D_m  # Update m\n",
    "    c = c - L * D_c  # Update c\n",
    "    \n",
    "print (m, c)\n",
    "\n",
    "Y_pred = m*X + c\n",
    "\n",
    "plt.scatter(X, Y) \n",
    "plt.plot([min(X), max(X)], [min(Y_pred), max(Y_pred)], color='red')  # regression line\n",
    "plt.show()"
   ]
  },
  {
   "cell_type": "markdown",
   "metadata": {},
   "source": [
    "### Aplicação"
   ]
  },
  {
   "cell_type": "code",
   "execution_count": null,
   "metadata": {},
   "outputs": [],
   "source": []
  }
 ],
 "metadata": {
  "kernelspec": {
   "display_name": "Python 3",
   "language": "python",
   "name": "python3"
  },
  "language_info": {
   "codemirror_mode": {
    "name": "ipython",
    "version": 3
   },
   "file_extension": ".py",
   "mimetype": "text/x-python",
   "name": "python",
   "nbconvert_exporter": "python",
   "pygments_lexer": "ipython3",
   "version": "3.8.6"
  }
 },
 "nbformat": 4,
 "nbformat_minor": 4
}
