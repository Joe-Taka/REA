{
 "cells": [
  {
   "cell_type": "markdown",
   "metadata": {},
   "source": [
    "## Teorema de Bayes\n",
    "### O que é o Teorema de Bayes?\n",
    "O teorema de Bayes fornece um modo de calcular a probabilidade de uma hipótese baseado na probabilidade de outras hipóteses *a priori*. "
   ]
  },
  {
   "cell_type": "markdown",
   "metadata": {},
   "source": [
    "### Equação\n",
    "$$\\large P(A|B) = \\frac{P(A) \\cdot P(B|A)}{P(B)}$$\n",
    "- $P(A|B)$: probabilidade do evento 'A' ocorrer dado que 'B' ocorreu\n",
    "- $P(A)$: probabilidade de 'A' ocorrer\n",
    "- $P(B|A)$: probabilidade do evento 'B' ocorrer dado que 'A' ocorreu\n",
    "- $P(B)$: probabilidade de 'B' ocorrer <br>\n",
    "\n",
    "Portanto, o Teorema de Bayes afirma que a probabilidade posterior do evento A (ou seja, a probabilidade do evento A dado que o evento B ocorreu) é igual à probabilidade contrária P(B|A) multiplicada pela probabilidade de A e dividido pela probabilidade de B."
   ]
  },
  {
   "cell_type": "markdown",
   "metadata": {},
   "source": [
    "### Exemplo de aplicação do Teorema de Bayes utilizando Scikit-Learn no Python\n",
    "Vamos utilizar um conjunto de dados que incluem 4 observações sobre um determinado momento do dia (clima - claro, chuvoso ou geada; feriado ou dia útil; período - manhã, horário de almoço ou noite; houve ou não congestionamento) e, a partir desses dados base, tentaremos prever a probabilidade de acontecer um congestionamento utilizando valores fornecidos apenas das 3 condições iniciais. <br>\n",
    "- Para isso, usaremos a biblioteca 'Scikit-Learn' do Python"
   ]
  },
  {
   "cell_type": "code",
   "execution_count": 119,
   "metadata": {},
   "outputs": [],
   "source": [
    "from sklearn import preprocessing\n",
    "from sklearn.naive_bayes import GaussianNB\n",
    "import pandas as pd"
   ]
  },
  {
   "cell_type": "markdown",
   "metadata": {},
   "source": [
    "- Os dados que dispomos são apresentados a seguir:"
   ]
  },
  {
   "cell_type": "code",
   "execution_count": 120,
   "metadata": {},
   "outputs": [
    {
     "data": {
      "text/html": [
       "<div>\n",
       "<style scoped>\n",
       "    .dataframe tbody tr th:only-of-type {\n",
       "        vertical-align: middle;\n",
       "    }\n",
       "\n",
       "    .dataframe tbody tr th {\n",
       "        vertical-align: top;\n",
       "    }\n",
       "\n",
       "    .dataframe thead th {\n",
       "        text-align: right;\n",
       "    }\n",
       "</style>\n",
       "<table border=\"1\" class=\"dataframe\">\n",
       "  <thead>\n",
       "    <tr style=\"text-align: center;\">\n",
       "      <th></th>\n",
       "      <th>Tempo</th>\n",
       "      <th>Dia da semana</th>\n",
       "      <th>Horário</th>\n",
       "      <th>Congestionamento</th>\n",
       "    </tr>\n",
       "  </thead>\n",
       "  <tbody>\n",
       "    <tr>\n",
       "      <th>0</th>\n",
       "      <td>Claro</td>\n",
       "      <td>Útil</td>\n",
       "      <td>Manhã</td>\n",
       "      <td>Sim</td>\n",
       "    </tr>\n",
       "    <tr>\n",
       "      <th>1</th>\n",
       "      <td>Claro</td>\n",
       "      <td>Útil</td>\n",
       "      <td>Almoço</td>\n",
       "      <td>Não</td>\n",
       "    </tr>\n",
       "    <tr>\n",
       "      <th>2</th>\n",
       "      <td>Claro</td>\n",
       "      <td>Útil</td>\n",
       "      <td>Noite</td>\n",
       "      <td>Sim</td>\n",
       "    </tr>\n",
       "    <tr>\n",
       "      <th>3</th>\n",
       "      <td>Claro</td>\n",
       "      <td>Feriado</td>\n",
       "      <td>Manhã</td>\n",
       "      <td>Não</td>\n",
       "    </tr>\n",
       "    <tr>\n",
       "      <th>4</th>\n",
       "      <td>Claro</td>\n",
       "      <td>Feriado</td>\n",
       "      <td>Almoço</td>\n",
       "      <td>Não</td>\n",
       "    </tr>\n",
       "    <tr>\n",
       "      <th>5</th>\n",
       "      <td>Claro</td>\n",
       "      <td>Feriado</td>\n",
       "      <td>Noite</td>\n",
       "      <td>Não</td>\n",
       "    </tr>\n",
       "    <tr>\n",
       "      <th>6</th>\n",
       "      <td>Chuvoso</td>\n",
       "      <td>Útil</td>\n",
       "      <td>Manhã</td>\n",
       "      <td>Sim</td>\n",
       "    </tr>\n",
       "    <tr>\n",
       "      <th>7</th>\n",
       "      <td>Chuvoso</td>\n",
       "      <td>Útil</td>\n",
       "      <td>Almoço</td>\n",
       "      <td>Sim</td>\n",
       "    </tr>\n",
       "    <tr>\n",
       "      <th>8</th>\n",
       "      <td>Chuvoso</td>\n",
       "      <td>Útil</td>\n",
       "      <td>Noite</td>\n",
       "      <td>Sim</td>\n",
       "    </tr>\n",
       "    <tr>\n",
       "      <th>9</th>\n",
       "      <td>Chuvoso</td>\n",
       "      <td>Feriado</td>\n",
       "      <td>Manhã</td>\n",
       "      <td>Não</td>\n",
       "    </tr>\n",
       "    <tr>\n",
       "      <th>10</th>\n",
       "      <td>Chuvoso</td>\n",
       "      <td>Feriado</td>\n",
       "      <td>Almoço</td>\n",
       "      <td>Não</td>\n",
       "    </tr>\n",
       "    <tr>\n",
       "      <th>11</th>\n",
       "      <td>Chuvoso</td>\n",
       "      <td>Feriado</td>\n",
       "      <td>Noite</td>\n",
       "      <td>Não</td>\n",
       "    </tr>\n",
       "    <tr>\n",
       "      <th>12</th>\n",
       "      <td>Geada</td>\n",
       "      <td>Útil</td>\n",
       "      <td>Manhã</td>\n",
       "      <td>Sim</td>\n",
       "    </tr>\n",
       "    <tr>\n",
       "      <th>13</th>\n",
       "      <td>Geada</td>\n",
       "      <td>Útil</td>\n",
       "      <td>Almoço</td>\n",
       "      <td>Sim</td>\n",
       "    </tr>\n",
       "    <tr>\n",
       "      <th>14</th>\n",
       "      <td>Geada</td>\n",
       "      <td>Útil</td>\n",
       "      <td>Noite</td>\n",
       "      <td>Sim</td>\n",
       "    </tr>\n",
       "    <tr>\n",
       "      <th>15</th>\n",
       "      <td>Geada</td>\n",
       "      <td>Feriado</td>\n",
       "      <td>Manhã</td>\n",
       "      <td>Sim</td>\n",
       "    </tr>\n",
       "    <tr>\n",
       "      <th>16</th>\n",
       "      <td>Geada</td>\n",
       "      <td>Feriado</td>\n",
       "      <td>Almoço</td>\n",
       "      <td>Não</td>\n",
       "    </tr>\n",
       "    <tr>\n",
       "      <th>17</th>\n",
       "      <td>Geada</td>\n",
       "      <td>Feriado</td>\n",
       "      <td>Noite</td>\n",
       "      <td>Sim</td>\n",
       "    </tr>\n",
       "  </tbody>\n",
       "</table>\n",
       "</div>"
      ],
      "text/plain": [
       "    Tempo   Dia da semana Horário Congestionamento\n",
       "0     Claro        Útil     Manhã        Sim      \n",
       "1     Claro        Útil    Almoço        Não      \n",
       "2     Claro        Útil     Noite        Sim      \n",
       "3     Claro     Feriado     Manhã        Não      \n",
       "4     Claro     Feriado    Almoço        Não      \n",
       "5     Claro     Feriado     Noite        Não      \n",
       "6   Chuvoso        Útil     Manhã        Sim      \n",
       "7   Chuvoso        Útil    Almoço        Sim      \n",
       "8   Chuvoso        Útil     Noite        Sim      \n",
       "9   Chuvoso     Feriado     Manhã        Não      \n",
       "10  Chuvoso     Feriado    Almoço        Não      \n",
       "11  Chuvoso     Feriado     Noite        Não      \n",
       "12    Geada        Útil     Manhã        Sim      \n",
       "13    Geada        Útil    Almoço        Sim      \n",
       "14    Geada        Útil     Noite        Sim      \n",
       "15    Geada     Feriado     Manhã        Sim      \n",
       "16    Geada     Feriado    Almoço        Não      \n",
       "17    Geada     Feriado     Noite        Sim      "
      ]
     },
     "execution_count": 120,
     "metadata": {},
     "output_type": "execute_result"
    }
   ],
   "source": [
    "def getTempo():\n",
    "    return ['Claro', 'Claro', 'Claro', 'Claro', 'Claro', 'Claro',\n",
    "            'Chuvoso', 'Chuvoso', 'Chuvoso', 'Chuvoso', 'Chuvoso', 'Chuvoso',\n",
    "            'Geada', 'Geada', 'Geada', 'Geada', 'Geada', 'Geada']\n",
    "\n",
    "def getDiaSem():\n",
    "    return ['Útil', 'Útil', 'Útil',\n",
    "                'Feriado', 'Feriado', 'Feriado',\n",
    "                'Útil', 'Útil', 'Útil',\n",
    "                'Feriado', 'Feriado', 'Feriado',\n",
    "                'Útil', 'Útil', 'Útil',\n",
    "                'Feriado', 'Feriado', 'Feriado']\n",
    "\n",
    "def getHorario():\n",
    "    return ['Manhã', 'Almoço', 'Noite',\n",
    "                'Manhã', 'Almoço', 'Noite',\n",
    "                'Manhã', 'Almoço', 'Noite',\n",
    "                'Manhã', 'Almoço', 'Noite',\n",
    "                'Manhã', 'Almoço', 'Noite',\n",
    "                'Manhã', 'Almoço', 'Noite']\n",
    "\n",
    "def getCongest():\n",
    "    return ['Sim', 'Não', 'Sim',\n",
    "               'Não', 'Não', 'Não',\n",
    "               'Sim', 'Sim', 'Sim',\n",
    "               'Não', 'Não', 'Não',\n",
    "               'Sim', 'Sim', 'Sim',\n",
    "               'Sim', 'Não', 'Sim']\n",
    "    \n",
    "Tempo = getTempo()\n",
    "diaDaSem = getDiaSem()\n",
    "Horario = getHorario()\n",
    "Congest = getCongest()\n",
    "\n",
    "pd.DataFrame(zip(Tempo,diaDaSem,Horario,Congest), columns=['Tempo','Dia da semana','Horário','Congestionamento'])"
   ]
  },
  {
   "cell_type": "markdown",
   "metadata": {},
   "source": [
    "#### Pré-processamento dos dados\n",
    "- Vamos utilizar o comando 'sklearn.preprocessing.LabelEncoder' para **normalizar** os dados, ou seja, alterar os valores das colunas numéricas no conjunto de dados para uma escala comum, sem distorcer os intervalos de valores ou provocar perda de informações. No exemplo analisado, os valores do tipo texto serão transformados em valores numéricos.\n",
    "- Ainda, usamos o método 'fit_transform()' para evitar possíveis erros que poderiam ser provocados por valores nulos, inexistentes ou indefinidos no nosso conjunto de dados.\n",
    "- Organizamos os dados relevantes (**features**) para o nosso exemplo em uma única lista."
   ]
  },
  {
   "cell_type": "code",
   "execution_count": 121,
   "metadata": {},
   "outputs": [
    {
     "name": "stdout",
     "output_type": "stream",
     "text": [
      "-----------------normalização-----------------\n",
      "[1 1 1 1 1 1 0 0 0 0 0 0 2 2 2 2 2 2]\n",
      "[1 1 1 0 0 0 1 1 1 0 0 0 1 1 1 0 0 0]\n",
      "[1 0 2 1 0 2 1 0 2 1 0 2 1 0 2 1 0 2]\n",
      "[1 0 1 0 0 0 1 1 1 0 0 0 1 1 1 1 0 1]\n",
      "-----------------features-----------------\n",
      "[[1, 1, 1], [1, 1, 0], [1, 1, 2], [1, 0, 1], [1, 0, 0], [1, 0, 2], [0, 1, 1], [0, 1, 0], [0, 1, 2], [0, 0, 1], [0, 0, 0], [0, 0, 2], [2, 1, 1], [2, 1, 0], [2, 1, 2], [2, 0, 1], [2, 0, 0], [2, 0, 2]]\n"
     ]
    },
    {
     "data": {
      "text/plain": [
       "GaussianNB()"
      ]
     },
     "execution_count": 121,
     "metadata": {},
     "output_type": "execute_result"
    }
   ],
   "source": [
    "labelEncoder = preprocessing.LabelEncoder()\n",
    "\n",
    "# Normalizando e aplicando o 'fit_transform'\n",
    "normTempo = labelEncoder.fit_transform(tempo)\n",
    "normDiaDaSem = labelEncoder.fit_transform(diaDaSem)\n",
    "normHorario = labelEncoder.fit_transform(horario)\n",
    "normCongest = labelEncoder.fit_transform(congest)\n",
    "\n",
    "print(\"-----------------normalização-----------------\")\n",
    "print(normTempo)\n",
    "print(normDiaDaSem)\n",
    "print(normHorario)\n",
    "print(normCongest)\n",
    "\n",
    "# Organizando os dados relevantes (features)\n",
    "features = []\n",
    "for i in range(len(normTempo)):\n",
    "    features.append([normTempo[i], normDiaDaSem[i], normHorario[i]])\n",
    "    \n",
    "print(\"-----------------features-----------------\")\n",
    "print(features)\n",
    "\n",
    "# Aplicando o Método de Bayes\n",
    "modelo = GaussianNB()\n",
    "\n",
    "# Treinando o modelo\n",
    "modelo.fit(features, normCongest)"
   ]
  },
  {
   "cell_type": "markdown",
   "metadata": {},
   "source": [
    "### Fazendo as predições\n",
    "- Portanto, para as condiçoes [\"Geada\", \"Útil\", \"Manhã\"] por exemplo, há uma grande probabilidade de ocorrer congestionamento.\n",
    "- Para as condiçoes [\"Claro\", \"Feriado\", \"Almoço\"], a probabilidade de ocorrer um congestionamento é baixa."
   ]
  },
  {
   "cell_type": "code",
   "execution_count": 122,
   "metadata": {},
   "outputs": [
    {
     "name": "stdout",
     "output_type": "stream",
     "text": [
      "[1]\n",
      "[0]\n"
     ]
    }
   ],
   "source": [
    "# [\"Geada\", \"Útil\", \"Manhã\"]\n",
    "print(model.predict([[2, 1, 1]]))\n",
    "# [\"Claro\", \"Feriado\", \"Almoço\"]\n",
    "print (model.predict([[1, 0, 0]]))"
   ]
  },
  {
   "cell_type": "markdown",
   "metadata": {},
   "source": [
    "### Aplicações do Teorema de Bayes\n",
    "- Aprendizado de máquinas, principalmente nas classificações de dados.\n",
    "- Pode ser utilizado na química para avaliar a densidade de probabilidade da composição química de um sistema em termos das densidades de probabilidade das abundâncias das diferentes espécies químicas.\n",
    "- Pode ser utilizado para prever a qualidade de água com base na concentração de toxinas e outros poluentes que possam ultrapassamr os limites numéricos do padrão de qualidade da água.\n",
    "- Em engenharia estrutural, auxiliando o engenheiro a determinar se a estrutura é segura ou não, com base nos valores de reabilidade. "
   ]
  }
 ],
 "metadata": {
  "kernelspec": {
   "display_name": "Python 3",
   "language": "python",
   "name": "python3"
  },
  "language_info": {
   "codemirror_mode": {
    "name": "ipython",
    "version": 3
   },
   "file_extension": ".py",
   "mimetype": "text/x-python",
   "name": "python",
   "nbconvert_exporter": "python",
   "pygments_lexer": "ipython3",
   "version": "3.8.6"
  }
 },
 "nbformat": 4,
 "nbformat_minor": 4
}
